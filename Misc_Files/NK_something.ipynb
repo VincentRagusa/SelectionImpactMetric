{
 "cells": [
  {
   "cell_type": "code",
   "execution_count": 54,
   "id": "10d029dd",
   "metadata": {},
   "outputs": [],
   "source": [
    "import random\n",
    "import copy\n",
    "import matplotlib.pyplot as plt\n",
    "from statistics import mean, stdev\n",
    "# ------------------------------------------------------------------------------------------\n",
    "\n",
    "class Org:\n",
    "    def __init__(self):\n",
    "        global GENOME_LENGTH,TRAITS\n",
    "        self.genome = [[random.randint(0,1) for _ in range(GENOME_LENGTH)] for _ in range(TRAITS)] #binary genome\n",
    "        self.fitness = -1 #assume fitness >= 0\n",
    "        self.altFitness = -1\n",
    "        self.offspring = 0\n",
    "\n",
    "    def __repr__(self):\n",
    "        return str(self.fitness)\n",
    "\n",
    "\n",
    "    def make_mutated_copy(self):\n",
    "        global GENOME_LENGTH,MUTATION_RATE,TRAITS\n",
    "        child = Org()\n",
    "        child.genome = copy.deepcopy(self.genome)\n",
    "        for t in range(TRAITS):\n",
    "            for i in range(GENOME_LENGTH):\n",
    "                if random.random() <= MUTATION_RATE:\n",
    "                    child.genome[t][i] = 1-child.genome[t][i] #bit flip\n",
    "        return child\n",
    "\n",
    "\n",
    "    def get_fitness(self):\n",
    "        if self.fitness == -1: #assume fitness >= 0\n",
    "            self.fitness, self.traitScores = evaluate(self)\n",
    "        return self.fitness\n",
    "    \n",
    "    \n",
    "def tournament_select(population,size=2):\n",
    "    orgPick = max(random.choices(population, k=size),key= lambda org: org.fitness)\n",
    "    orgPick.offspring += 1\n",
    "    return orgPick\n",
    "\n",
    "def evaluate(org):\n",
    "    global GENOME_LENGTH, K, WEIGHTS\n",
    "    \n",
    "    #when using multi traits, evaluate each independantly\n",
    "    traitScores = []\n",
    "    for t in range(TRAITS):\n",
    "        tScore = 0\n",
    "        \n",
    "        #each site in the genome produces a fitness contribution\n",
    "        for i in range(GENOME_LENGTH):\n",
    "            \n",
    "            #the genome is circular, and we take runs of length K\n",
    "            if i+K < GENOME_LENGTH:\n",
    "                G = org.genome[t][i:i+K]\n",
    "            else:\n",
    "                #if i+K is out of bounds, see that the wrap-around is done correctly\n",
    "                G = org.genome[t][i:] + org.genome[t][:(i+K)%GENOME_LENGTH]\n",
    "            \n",
    "            #The K sites from i to i+K are used to index a (N x 2^K) lookup table\n",
    "            index = sum([G[b] * 2**b for b in range(K)])\n",
    "            \n",
    "            #the score is incrimented by the value in the table\n",
    "            tScore += WEIGHTS[i][index]\n",
    "            \n",
    "        traitScores.append(tScore/GENOME_LENGTH)\n",
    "        \n",
    "    return sum(traitScores), traitScores\n",
    "        \n",
    "def printEvoUpdate():\n",
    "    global population,MAXdata,AVEdata,STDdata,generation \n",
    "    MAXdata.append(max(population, key= lambda org: org.get_fitness()).traitScores)\n",
    "    AVEdata.append([mean(c) for c in zip(*[org.traitScores for org in population])])\n",
    "    if generation%100 == 0:\n",
    "        print(\"Gen: {}\\t Ave: {}\\t Max: {}\".format(generation,mean(AVEdata[-1]),mean(MAXdata[-1])))"
   ]
  },
  {
   "cell_type": "code",
   "execution_count": 55,
   "id": "c6579157",
   "metadata": {},
   "outputs": [],
   "source": [
    "\n",
    "POP_SIZE = 200\n",
    "GENOME_LENGTH = 20 #N\n",
    "MUTATION_RATE = 1/(4*GENOME_LENGTH)#per site rate\n",
    "GENERATIONS = 500\n",
    "TRAITS = 1\n",
    "TSIZE = 10"
   ]
  },
  {
   "cell_type": "code",
   "execution_count": 56,
   "id": "6bd6bd78",
   "metadata": {},
   "outputs": [],
   "source": [
    "K = 1\n",
    "# assert 1 <= K <= GENOME_LENGTH-1\n",
    "WEIGHTS = [[random.random() for _ in range(2**K)]for _ in range(GENOME_LENGTH)]"
   ]
  },
  {
   "cell_type": "code",
   "execution_count": 57,
   "id": "3c02edd1",
   "metadata": {},
   "outputs": [
    {
     "name": "stdout",
     "output_type": "stream",
     "text": [
      "Gen: 100\t Ave: 0.6770762670714235\t Max: 0.6813153964563355\n",
      "Gen: 200\t Ave: 0.6765641466319926\t Max: 0.6813153964563355\n",
      "Gen: 300\t Ave: 0.6768168966221852\t Max: 0.6813153964563355\n",
      "Gen: 400\t Ave: 0.6767738483577693\t Max: 0.6813153964563355\n"
     ]
    }
   ],
   "source": [
    "\n",
    "population = [Org() for _ in range(POP_SIZE)]\n",
    "MAXdata = []\n",
    "AVEdata = []\n",
    "\n",
    "for generation in range(GENERATIONS):\n",
    "    if generation > 0:\n",
    "        printEvoUpdate()\n",
    "    #reproduce\n",
    "    newPopulation = [tournament_select(population,TSIZE).make_mutated_copy() for _ in range(POP_SIZE)]\n",
    "        \n",
    "    population = copy.deepcopy(newPopulation)"
   ]
  },
  {
   "cell_type": "code",
   "execution_count": 58,
   "id": "3a9bf24e",
   "metadata": {},
   "outputs": [
    {
     "data": {
      "image/png": "[encoded data removed]",
      "text/plain": [
       "<Figure size 432x288 with 1 Axes>"
      ]
     },
     "metadata": {
      "needs_background": "light"
     },
     "output_type": "display_data"
    }
   ],
   "source": [
    "plt.plot(AVEdata)\n",
    "plt.plot(MAXdata)\n",
    "plt.show()"
   ]
  },
  {
   "cell_type": "code",
   "execution_count": null,
   "id": "e07b34fc",
   "metadata": {},
   "outputs": [],
   "source": []
  },
  {
   "cell_type": "code",
   "execution_count": null,
   "id": "c3534e8e",
   "metadata": {},
   "outputs": [],
   "source": []
  }
 ],
 "metadata": {
  "kernelspec": {
   "display_name": "Python 3 (ipykernel)",
   "language": "python",
   "name": "python3"
  },
  "language_info": {
   "codemirror_mode": {
    "name": "ipython",
    "version": 3
   },
   "file_extension": ".py",
   "mimetype": "text/x-python",
   "name": "python",
   "nbconvert_exporter": "python",
   "pygments_lexer": "ipython3",
   "version": "3.10.6"
  }
 },
 "nbformat": 4,
 "nbformat_minor": 5
}
