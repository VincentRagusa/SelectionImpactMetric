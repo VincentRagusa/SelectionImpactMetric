{
 "cells": [
  {
   "cell_type": "code",
   "execution_count": null,
   "id": "c65ce743",
   "metadata": {},
   "outputs": [],
   "source": [
    "import random\n",
    "\n",
    "cycleLength = 50\n",
    "\n",
    "W = [random.randint(1,10) for _ in range(cycleLength)]\n",
    "D = [random.randint(1,20)/10 for _ in range(cycleLength)]\n",
    "R = [random.randint(1,100)/10 for _ in range(cycleLength)]\n",
    "\n",
    "#fitness function and selection algorithms\n",
    "def sawtooth(organism,plot=False):\n",
    "    x = sum(organism.genome.sites)\n",
    "    x = x + w+1 #offset to next peak to avoid fitness zero on init\n",
    "    \n",
    "    \n",
    "    \n",
    "    w = 5 #valley width\n",
    "    d = 0.5 #valley depth\n",
    "    r = 2 #fitness rise peak to peak\n",
    "    \n",
    "    if plot:\n",
    "        anon = lambda v: v*(-d/w) + (v//(w+1))*(r + d + (d/w))\n",
    "        plt.plot([anon(v) for v in range(-20,21)])\n",
    "        plt.show()\n",
    "        return\n",
    "    \n",
    "\n",
    "    \n",
    "    return x*(-d/w) + (x//(w+1))*(r + d + (d/w))"
   ]
  }
 ],
 "metadata": {
  "kernelspec": {
   "display_name": "Python 3 (ipykernel)",
   "language": "python",
   "name": "python3"
  },
  "language_info": {
   "codemirror_mode": {
    "name": "ipython",
    "version": 3
   },
   "file_extension": ".py",
   "mimetype": "text/x-python",
   "name": "python",
   "nbconvert_exporter": "python",
   "pygments_lexer": "ipython3",
   "version": "3.10.6"
  }
 },
 "nbformat": 4,
 "nbformat_minor": 5
}
