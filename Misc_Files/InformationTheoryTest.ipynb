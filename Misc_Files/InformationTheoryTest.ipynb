{
 "cells": [
  {
   "cell_type": "code",
   "execution_count": 1,
   "id": "feb48064",
   "metadata": {},
   "outputs": [],
   "source": [
    "from DDIT import DDIT\n",
    "from random import randint,shuffle"
   ]
  },
  {
   "cell_type": "code",
   "execution_count": 7,
   "id": "2dd96df9",
   "metadata": {},
   "outputs": [],
   "source": [
    "dataLog = []\n",
    "for location in range(64):\n",
    "    for size in range(2):\n",
    "        for direction in range(2):\n",
    "            h1 = randint(0,1)\n",
    "            h2 = 1 if not(size == 0 and direction == 0) else randint(0,1)\n",
    "            h3 = 0 if not(size == 0 and direction == 1) else randint(0,1)\n",
    "            h4 = randint(0,1)\n",
    "            h5 = 0 if not(size == 1 and direction == 0) else randint(0,1)\n",
    "            h6 = randint(0,1)\n",
    "            h7 = 1 if not(size == 1 and direction == 1) else randint(0,1)\n",
    "            dataLog.append([size,direction,h1,h2,h3,h4,h5,h6,h7])\n",
    "shuffle(dataLog)\n",
    "names=[\"size\",\"direction\",\"h1\",\"h2\",\"h3\",\"h4\",\"h5\",\"h6\",\"h7\"]\n",
    "with open(\"fakeData.csv\",\"w\") as outputFile:\n",
    "    outputFile.write(\",\".join(names)+\"\\n\")\n",
    "    for row in dataLog:\n",
    "        outputFile.write(\",\".join(map(str,row))+\"\\n\")"
   ]
  },
  {
   "cell_type": "code",
   "execution_count": 8,
   "id": "acd9483b",
   "metadata": {},
   "outputs": [],
   "source": [
    "ddit = DDIT(verbose=False)"
   ]
  },
  {
   "cell_type": "code",
   "execution_count": 9,
   "id": "627360dc",
   "metadata": {},
   "outputs": [],
   "source": [
    "ddit.load_csv(\"fakeData.csv\", header=True, auto_register=True)"
   ]
  },
  {
   "cell_type": "code",
   "execution_count": 12,
   "id": "d505ae0a",
   "metadata": {
    "scrolled": false
   },
   "outputs": [
    {
     "name": "stdout",
     "output_type": "stream",
     "text": [
      "Generating venn diagram...\n",
      "1 h7|direction&h2&h3&h5 0.35744714396519983\n",
      "2 h5|direction&h2&h3&h7 0.3286971235188183\n",
      "3 h5:h7|direction&h2&h3 4.440892098500626e-16\n",
      "4 h3|direction&h2&h5&h7 0.3335996584651073\n",
      "5 h3:h7|direction&h2&h5 0.06572990671401602\n",
      "6 h3:h5|direction&h2&h7 2.220446049250313e-16\n",
      "7 h3:h5:h7|direction&h2 -4.440892098500626e-16\n",
      "8 h2|direction&h3&h5&h7 0.3360008950862383\n",
      "9 h2:h7|direction&h3&h5 4.440892098500626e-16\n",
      "10 h2:h5|direction&h3&h7 0.04293833618295939\n",
      "11 h2:h5:h7|direction&h3 -2.220446049250313e-16\n",
      "12 h2:h3|direction&h5&h7 2.220446049250313e-16\n",
      "13 h2:h3:h7|direction&h5 -4.440892098500626e-16\n",
      "14 h2:h3:h5|direction&h7 -2.220446049250313e-16\n",
      "15 h2:h3:h5:h7|direction 2.220446049250313e-16\n",
      "16 direction|h2&h3&h5&h7 0.5248153967173226\n",
      "17 direction:h7|h2&h3&h5 0.12966788708352395\n",
      "18 direction:h5|h2&h3&h7 0.08264519018053096\n",
      "19 direction:h5:h7|h2&h3 0.03227404071894413\n",
      "20 direction:h3|h2&h5&h7 0.11681578833072948\n",
      "21 direction:h3:h7|h2&h5 -0.029095177097500313\n",
      "22 direction:h3:h5|h2&h7 0.028914327045714394\n",
      "23 direction:h3:h5:h7|h2 -0.005126108244543959\n",
      "24 direction:h2|h3&h5&h7 0.08535318975825601\n",
      "25 direction:h2:h7|h3&h5 0.033373312869335314\n",
      "26 direction:h2:h5|h3&h7 -0.016593486269805613\n",
      "27 direction:h2:h5:h7|h3 -0.0047026313249748375\n",
      "28 direction:h2:h3|h5&h7 0.029898290011366013\n",
      "29 direction:h2:h3:h7|h5 -0.00528842315635758\n",
      "30 direction:h2:h3:h5|h7 -0.004252226272319026\n",
      "31 direction:h2:h3:h5:h7 0.0013006296497785064\n"
     ]
    }
   ],
   "source": [
    "ddit.solve_venn_diagram(column_keys=[\"direction\",\"h2\",\"h3\",\"h5\",\"h7\"])"
   ]
  },
  {
   "cell_type": "code",
   "execution_count": null,
   "id": "0d9aab68",
   "metadata": {},
   "outputs": [],
   "source": []
  }
 ],
 "metadata": {
  "kernelspec": {
   "display_name": "Python 3",
   "language": "python",
   "name": "python3"
  },
  "language_info": {
   "codemirror_mode": {
    "name": "ipython",
    "version": 3
   },
   "file_extension": ".py",
   "mimetype": "text/x-python",
   "name": "python",
   "nbconvert_exporter": "python",
   "pygments_lexer": "ipython3",
   "version": "3.9.7"
  }
 },
 "nbformat": 4,
 "nbformat_minor": 5
}
